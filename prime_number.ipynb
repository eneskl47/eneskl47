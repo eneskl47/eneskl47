{
  "cells": [
    {
      "cell_type": "markdown",
      "source": [
        "Githubda bulduğum bir kod bloğu\n"
      ],
      "metadata": {
        "id": "7BoMJAMEM2ud"
      }
    },
    {
      "cell_type": "code",
      "execution_count": null,
      "source": [
        "num = int(input('enter a number:'))\n",
        "if num > 1:\n",
        "  for i in range (2,num):\n",
        "    if (num % i) == 0:\n",
        "      print(num,\"is not a prime number\")\n",
        "      break\n",
        "  else:\n",
        "      print(num, \"is a prime number\")\n",
        "\n",
        "else:\n",
        "  print(num, \"is not a prime number\")"
      ],
      "outputs": [],
      "metadata": {
        "id": "Nbjy6AmvMw2n"
      }
    },
    {
      "cell_type": "code",
      "source": [],
      "metadata": {
        "id": "17CntUmoM8qs"
      },
      "execution_count": null,
      "outputs": []
    }
  ],
  "metadata": {
    "orig_nbformat": 4,
    "language_info": {
      "name": "python"
    },
    "colab": {
      "provenance": []
    }
  },
  "nbformat": 4,
  "nbformat_minor": 0
}
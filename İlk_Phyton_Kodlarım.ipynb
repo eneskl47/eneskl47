{
  "nbformat": 4,
  "nbformat_minor": 0,
  "metadata": {
    "colab": {
      "provenance": [],
      "authorship_tag": "ABX9TyMdvMkVpkGjPPpFPIyYvlip",
      "include_colab_link": true
    },
    "kernelspec": {
      "name": "python3",
      "display_name": "Python 3"
    },
    "language_info": {
      "name": "python"
    }
  },
  "cells": [
    {
      "cell_type": "markdown",
      "metadata": {
        "id": "view-in-github",
        "colab_type": "text"
      },
      "source": [
        "<a href=\"https://colab.research.google.com/github/eneskl47/eneskl47/blob/pyhton/%C4%B0lk_Phyton_Kodlar%C4%B1m.ipynb\" target=\"_parent\"><img src=\"https://colab.research.google.com/assets/colab-badge.svg\" alt=\"Open In Colab\"/></a>"
      ]
    },
    {
      "cell_type": "code",
      "execution_count": null,
      "metadata": {
        "colab": {
          "base_uri": "https://localhost:8080/"
        },
        "id": "4TZ37kCrIetb",
        "outputId": "d9aeb5a5-ea32-4f3f-a4c9-7febb70c6b00"
      },
      "outputs": [
        {
          "output_type": "stream",
          "name": "stdout",
          "text": [
            "Hello World!\n"
          ]
        }
      ],
      "source": [
        "print(\"Hello World!\")"
      ]
    },
    {
      "cell_type": "markdown",
      "source": [
        "Kesme işareti koymayı unutma\n",
        "değişken adlarında büyük ve küçük harfe dikkat et\n"
      ],
      "metadata": {
        "id": "l5YLPqglEM3v"
      }
    },
    {
      "cell_type": "code",
      "source": [
        "enes = 24\n",
        "enes = 24\n",
        "Mustafa =28\n",
        "sum= Mustafa + enes;\n",
        "print(\"yaş toplamı\",sum)"
      ],
      "metadata": {
        "colab": {
          "base_uri": "https://localhost:8080/"
        },
        "id": "6_eIaLC0JBnl",
        "outputId": "685a98f2-d786-4bd3-ecc4-b759d1f10b42"
      },
      "execution_count": null,
      "outputs": [
        {
          "output_type": "stream",
          "name": "stdout",
          "text": [
            "yaş toplamı 52\n"
          ]
        }
      ]
    },
    {
      "cell_type": "markdown",
      "source": [
        "matemstiksel ve mantıksal operatörler\n"
      ],
      "metadata": {
        "id": "Hqn4zgJmEmvL"
      }
    },
    {
      "cell_type": "code",
      "source": [
        "sayı1 = 10\n",
        "sayı2 = 20\n",
        "print(sayı1 + sayı2)\n",
        "print(sayı1 - sayı2)\n",
        "print(sayı1 * sayı2)\n",
        "print(sayı1 % sayı2)\n",
        "print(sayı2 % sayı1)\n",
        "sum = sayı1 + sayı2;\n",
        "prod = sayı1 * sayı2;\n",
        "print(\"sum is:\",sum)\n",
        "print(\"prod is:\",prod)\n",
        "\n",
        "buyuk_mu = sayı1 > sayı2;\n",
        "print(buyuk_mu)\n",
        "buyuk_Mu = sayı1 < sayı2;\n",
        "print(buyuk_Mu)\n",
        "\n",
        "esit_mi = sayı1 == sayı2;\n",
        "print(\"logical result is:\",esit_mi)"
      ],
      "metadata": {
        "colab": {
          "base_uri": "https://localhost:8080/"
        },
        "id": "-ajhJyV6ErgZ",
        "outputId": "cc177501-34dc-47ad-efae-ed63b6c0af7f"
      },
      "execution_count": null,
      "outputs": [
        {
          "output_type": "stream",
          "name": "stdout",
          "text": [
            "30\n",
            "-10\n",
            "200\n",
            "10\n",
            "0\n",
            "sum is: 30\n",
            "prod is: 200\n",
            "False\n",
            "True\n",
            "logical result is: False\n"
          ]
        }
      ]
    },
    {
      "cell_type": "markdown",
      "source": [
        "İf-else yapıları.\n",
        "'x' yapısında içeriye bıraktığın boşluklara dikkat et\n",
        "İf Else yapılarında : işareti konulur"
      ],
      "metadata": {
        "id": "mbtSNZMxHyQJ"
      }
    },
    {
      "cell_type": "code",
      "source": [
        "hava_durumu = 'yağmurlu'\n",
        "if hava_durumu == 'yağmurlu':\n",
        "    print(\"şemsiyeni almayı unutma\")\n",
        "else:\n",
        "    print(\"Hava on numero\")\n",
        "    print(\"Hava on numero\")\n"
      ],
      "metadata": {
        "colab": {
          "base_uri": "https://localhost:8080/"
        },
        "id": "4n9udPmgH1v5",
        "outputId": "308f19ca-90d8-4247-cac0-b2f836a69b9e"
      },
      "execution_count": null,
      "outputs": [
        {
          "output_type": "stream",
          "name": "stdout",
          "text": [
            "şemsiyeni almayı unutma\n"
          ]
        }
      ]
    }
  ]
}